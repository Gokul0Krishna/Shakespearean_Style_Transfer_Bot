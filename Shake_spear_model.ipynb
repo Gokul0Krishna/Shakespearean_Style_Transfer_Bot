{
 "cells": [
  {
   "cell_type": "code",
   "execution_count": 113,
   "id": "11b5abd1",
   "metadata": {},
   "outputs": [
    {
     "data": {
      "text/plain": [
       "<torch._C.Generator at 0x209a199f350>"
      ]
     },
     "execution_count": 113,
     "metadata": {},
     "output_type": "execute_result"
    }
   ],
   "source": [
    "from tokenizer import Tokenizer\n",
    "import torch\n",
    "import torch.nn as nn\n",
    "import torch.nn as nn\n",
    "from torch.nn import functional as f\n",
    "torch.manual_seed(42)"
   ]
  },
  {
   "cell_type": "code",
   "execution_count": null,
   "id": "1e4e720a",
   "metadata": {},
   "outputs": [
    {
     "ename": "KeyError",
     "evalue": "' '",
     "output_type": "error",
     "traceback": [
      "\u001b[1;31m---------------------------------------------------------------------------\u001b[0m",
      "\u001b[1;31mKeyError\u001b[0m                                  Traceback (most recent call last)",
      "Cell \u001b[1;32mIn[115], line 3\u001b[0m\n\u001b[0;32m      1\u001b[0m obj \u001b[38;5;241m=\u001b[39m Tokenizer()\n\u001b[0;32m      2\u001b[0m obj\u001b[38;5;241m.\u001b[39mword_tokenizer()\n\u001b[1;32m----> 3\u001b[0m data\u001b[38;5;241m=\u001b[39mtorch\u001b[38;5;241m.\u001b[39mtensor(obj\u001b[38;5;241m.\u001b[39mencoder(s\u001b[38;5;241m=\u001b[39mobj\u001b[38;5;241m.\u001b[39mdata\u001b[38;5;241m.\u001b[39mlower()),dtype\u001b[38;5;241m=\u001b[39mtorch\u001b[38;5;241m.\u001b[39mint64)\n",
      "File \u001b[1;32mc:\\Users\\ASUS\\OneDrive\\Desktop\\code\\projects\\Shakespearean_Style_Transfer_Bot\\tokenizer.py:26\u001b[0m, in \u001b[0;36mTokenizer.encoder\u001b[1;34m(self, s)\u001b[0m\n\u001b[0;32m     24\u001b[0m \u001b[38;5;28;01mdef\u001b[39;00m \u001b[38;5;21mencoder\u001b[39m(\u001b[38;5;28mself\u001b[39m,s:\u001b[38;5;28mstr\u001b[39m)\u001b[38;5;241m-\u001b[39m\u001b[38;5;241m>\u001b[39m\u001b[38;5;28mint\u001b[39m:\n\u001b[0;32m     25\u001b[0m     \u001b[38;5;124m'\u001b[39m\u001b[38;5;124mconverts str to int\u001b[39m\u001b[38;5;124m'\u001b[39m\n\u001b[1;32m---> 26\u001b[0m     \u001b[38;5;28;01mreturn\u001b[39;00m [\u001b[38;5;28mself\u001b[39m\u001b[38;5;241m.\u001b[39mstring_to_int[ch] \u001b[38;5;28;01mfor\u001b[39;00m ch \u001b[38;5;129;01min\u001b[39;00m s]\n",
      "\u001b[1;31mKeyError\u001b[0m: ' '"
     ]
    }
   ],
   "source": [
    "obj = Tokenizer()\n",
    "obj.character_tokenizer()\n",
    "data=torch.tensor(obj.encoder(s=obj.data),dtype=torch.int64)"
   ]
  },
  {
   "cell_type": "code",
   "execution_count": null,
   "id": "e21dd752",
   "metadata": {},
   "outputs": [
    {
     "data": {
      "text/plain": [
       "106"
      ]
     },
     "execution_count": 103,
     "metadata": {},
     "output_type": "execute_result"
    }
   ],
   "source": [
    "obj.vocab_size"
   ]
  },
  {
   "cell_type": "code",
   "execution_count": null,
   "id": "f2d3b463",
   "metadata": {},
   "outputs": [],
   "source": [
    "n=int(0.7*len(data))\n",
    "traindata = data[:n]\n",
    "intrimdata = data[n:]"
   ]
  },
  {
   "cell_type": "code",
   "execution_count": null,
   "id": "737ddec8",
   "metadata": {},
   "outputs": [],
   "source": [
    "block_size = 8  # context length\n",
    "batch_size = 4   # number of sequences in a batch\n",
    "def getbatch_train_data():\n",
    "    data = torch.tensor(traindata) \n",
    "    ix = torch.randint(len(data) - block_size, (batch_size,))\n",
    "    x = torch.stack([data[i:i+block_size] for i in ix])\n",
    "    y = torch.stack([data[i+1:i+block_size+1] for i in ix])\n",
    "    return x,y\n",
    "\n",
    "def getbatch_test_data():\n",
    "    data = torch.tensor(intrimdata) \n",
    "    ix = torch.randint(len(data) - block_size, (batch_size,))\n",
    "    x = torch.stack([data[i:i+block_size] for i in ix])\n",
    "    y = torch.stack([data[i+1:i+block_size+1] for i in ix])\n",
    "    return x,y"
   ]
  },
  {
   "cell_type": "code",
   "execution_count": null,
   "id": "bdccab74",
   "metadata": {},
   "outputs": [],
   "source": [
    "class BigramLanguagemodel(nn.Module):\n",
    "    def __init__(self, vocab_size):\n",
    "        super().__init__()\n",
    "        self.token_embedding = nn.Embedding(embedding_dim=vocab_size,num_embeddings=vocab_size)\n",
    "\n",
    "    def forward(self,idx,targets=None):\n",
    "        logits = self.token_embedding(idx)\n",
    "        if  targets != None:\n",
    "            B,T,C = logits.shape\n",
    "            logits = logits.view(B*T,C)\n",
    "            targets = targets.view(B*T)\n",
    "            loss = f.cross_entropy(logits,target=targets)\n",
    "            \n",
    "        else:\n",
    "            loss=None\n",
    "        return logits,loss\n",
    "    \n",
    "    def generate(self, idx, max_newtokens):\n",
    "        for i in range(max_newtokens):\n",
    "            logits, _= self(idx)\n",
    "            logits = logits[:,-1,:]\n",
    "            probs = f.softmax(logits,dim=1)\n",
    "            id_next = torch.multinomial(probs,num_samples=1)\n",
    "            idx = torch.cat((idx, id_next), dim=1)\n",
    "        return idx\n",
    "    \n",
    "otg=BigramLanguagemodel(vocab_size=obj.vocab_size)\n"
   ]
  },
  {
   "cell_type": "code",
   "execution_count": null,
   "id": "a654aed4",
   "metadata": {},
   "outputs": [],
   "source": [
    "optimizer = torch.optim.AdamW(otg.parameters(),lr=1e-2)"
   ]
  },
  {
   "cell_type": "code",
   "execution_count": null,
   "id": "d99c7dbd",
   "metadata": {},
   "outputs": [
    {
     "name": "stdout",
     "output_type": "stream",
     "text": [
      "5.196999549865723\n",
      "5.219854831695557\n",
      "5.117485046386719\n",
      "5.15745735168457\n",
      "5.222513198852539\n",
      "5.186715126037598\n",
      "5.309512138366699\n",
      "5.195096492767334\n",
      "5.356014728546143\n",
      "5.146370887756348\n"
     ]
    },
    {
     "name": "stderr",
     "output_type": "stream",
     "text": [
      "C:\\Users\\ASUS\\AppData\\Local\\Temp\\ipykernel_15460\\341454980.py:4: UserWarning: To copy construct from a tensor, it is recommended to use sourceTensor.detach().clone() or sourceTensor.detach().clone().requires_grad_(True), rather than torch.tensor(sourceTensor).\n",
      "  data = torch.tensor(traindata)\n"
     ]
    }
   ],
   "source": [
    "batch_size = 32\n",
    "for i in range(10):\n",
    "    x,y=getbatch_train_data()\n",
    "\n",
    "    logits,loss=otg.forward(x,y)\n",
    "    optimizer.zero_grad(set_to_none=True)\n",
    "    loss.backward()\n",
    "    optimizer.step()\n",
    "    print(loss.item())"
   ]
  }
 ],
 "metadata": {
  "kernelspec": {
   "display_name": "base",
   "language": "python",
   "name": "python3"
  },
  "language_info": {
   "codemirror_mode": {
    "name": "ipython",
    "version": 3
   },
   "file_extension": ".py",
   "mimetype": "text/x-python",
   "name": "python",
   "nbconvert_exporter": "python",
   "pygments_lexer": "ipython3",
   "version": "3.12.7"
  }
 },
 "nbformat": 4,
 "nbformat_minor": 5
}
