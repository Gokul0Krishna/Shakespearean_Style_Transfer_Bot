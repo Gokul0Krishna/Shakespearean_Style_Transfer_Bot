{
 "cells": [
  {
   "cell_type": "code",
   "execution_count": 7,
   "id": "11b5abd1",
   "metadata": {},
   "outputs": [
    {
     "data": {
      "text/plain": [
       "<torch._C.Generator at 0x209a199f350>"
      ]
     },
     "execution_count": 7,
     "metadata": {},
     "output_type": "execute_result"
    }
   ],
   "source": [
    "from tokenizer import Tokenizer\n",
    "import torch\n",
    "import torch.nn as nn\n",
    "import torch.nn as nn\n",
    "from torch.nn import functional as f\n",
    "torch.manual_seed(42)"
   ]
  },
  {
   "cell_type": "code",
   "execution_count": 16,
   "id": "1e4e720a",
   "metadata": {},
   "outputs": [],
   "source": [
    "obj = Tokenizer()\n",
    "obj.character_tokenizer()\n",
    "data=torch.tensor(obj.encoder(s=obj.data),dtype=torch.int64)"
   ]
  },
  {
   "cell_type": "code",
   "execution_count": 17,
   "id": "f2d3b463",
   "metadata": {},
   "outputs": [],
   "source": [
    "n=int(0.9*len(data))\n",
    "traindata = data[:n]\n",
    "intrimdata = data[n:]"
   ]
  },
  {
   "cell_type": "code",
   "execution_count": 18,
   "id": "737ddec8",
   "metadata": {},
   "outputs": [],
   "source": [
    "block_size = 8  # context length\n",
    "batch_size = 4   # number of sequences in a batch\n",
    "def getbatch_train_data():\n",
    "    data = torch.tensor(traindata) \n",
    "    ix = torch.randint(len(data) - block_size, (batch_size,))\n",
    "    x = torch.stack([data[i:i+block_size] for i in ix])\n",
    "    y = torch.stack([data[i+1:i+block_size+1] for i in ix])\n",
    "    return x,y\n",
    "\n",
    "def getbatch_test_data():\n",
    "    data = torch.tensor(intrimdata) \n",
    "    ix = torch.randint(len(data) - block_size, (batch_size,))\n",
    "    x = torch.stack([data[i:i+block_size] for i in ix])\n",
    "    y = torch.stack([data[i+1:i+block_size+1] for i in ix])\n",
    "    return x,y"
   ]
  },
  {
   "cell_type": "code",
   "execution_count": 78,
   "id": "bdccab74",
   "metadata": {},
   "outputs": [],
   "source": [
    "class BigramLanguagemodel(nn.Module):\n",
    "    def __init__(self, vocab_size):\n",
    "        super().__init__()\n",
    "        self.token_embedding = nn.Embedding(embedding_dim=vocab_size,num_embeddings=vocab_size)\n",
    "\n",
    "    def forward(self,idx,targets=None):\n",
    "        logits = self.token_embedding(idx)\n",
    "        if  targets != None:\n",
    "            B,T,C = logits.shape\n",
    "            logits = logits.view(B*T,C)\n",
    "            targets = targets.view(B*T)\n",
    "            loss = f.cross_entropy(logits,target=targets)\n",
    "        else:\n",
    "            loss=None\n",
    "        return logits,loss\n",
    "    \n",
    "    def generate(self, idx, max_newtokens):\n",
    "        for i in range(max_newtokens):\n",
    "            logits, _= self(idx)\n",
    "            logits = logits[:,-1,:]\n",
    "            probs = f.softmax(logits,dim=1)\n",
    "            id_next = torch.multinomial(probs,num_samples=1)\n",
    "            idx = torch.cat((idx, id_next), dim=1)\n",
    "        return idx\n",
    "    \n",
    "otg=BigramLanguagemodel(vocab_size=obj.vocab_size)\n"
   ]
  },
  {
   "cell_type": "code",
   "execution_count": null,
   "id": "a654aed4",
   "metadata": {},
   "outputs": [],
   "source": [
    "optimizer = torch.optim.AdamW(otg.parameters(),lr=1e-3)"
   ]
  },
  {
   "cell_type": "code",
   "execution_count": null,
   "id": "d99c7dbd",
   "metadata": {},
   "outputs": [],
   "source": [
    "batch_size = 32\n",
    "for i in "
   ]
  }
 ],
 "metadata": {
  "kernelspec": {
   "display_name": "base",
   "language": "python",
   "name": "python3"
  },
  "language_info": {
   "codemirror_mode": {
    "name": "ipython",
    "version": 3
   },
   "file_extension": ".py",
   "mimetype": "text/x-python",
   "name": "python",
   "nbconvert_exporter": "python",
   "pygments_lexer": "ipython3",
   "version": "3.12.7"
  }
 },
 "nbformat": 4,
 "nbformat_minor": 5
}
