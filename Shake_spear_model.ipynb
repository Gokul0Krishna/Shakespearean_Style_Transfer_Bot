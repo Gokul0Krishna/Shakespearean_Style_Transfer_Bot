{
 "cells": [
  {
   "cell_type": "code",
   "execution_count": 1,
   "id": "11b5abd1",
   "metadata": {},
   "outputs": [],
   "source": [
    "from tokenizer import Tokenizer\n",
    "import torch\n",
    "import torch.nn as nn"
   ]
  },
  {
   "cell_type": "code",
   "execution_count": 38,
   "id": "1e4e720a",
   "metadata": {},
   "outputs": [],
   "source": [
    "obj = Tokenizer()\n",
    "obj.character_tokenizer()\n",
    "data=obj.encoder(s=obj.data)"
   ]
  },
  {
   "cell_type": "code",
   "execution_count": 39,
   "id": "f2d3b463",
   "metadata": {},
   "outputs": [],
   "source": [
    "n=int(0.9*len(data))\n",
    "traindata = data[:n]\n",
    "intrimdata = data[n:]"
   ]
  },
  {
   "cell_type": "code",
   "execution_count": 40,
   "id": "737ddec8",
   "metadata": {},
   "outputs": [],
   "source": [
    "block_size = 128  # context length\n",
    "batch_size = 64   # number of sequences in a batch\n",
    "\n",
    "data = torch.tensor(traindata) \n",
    "ix = torch.randint(len(data) - block_size, (batch_size,))\n",
    "x = torch.stack([data[i:i+block_size] for i in ix])\n",
    "y = torch.stack([data[i+1:i+block_size+1] for i in ix])\n"
   ]
  },
  {
   "cell_type": "code",
   "execution_count": 41,
   "id": "3e50b414",
   "metadata": {},
   "outputs": [],
   "source": [
    "embeding=nn.Embedding(embedding_dim=8,num_embeddings=obj.vocab_size)"
   ]
  },
  {
   "cell_type": "code",
   "execution_count": 42,
   "id": "bdccab74",
   "metadata": {},
   "outputs": [
    {
     "data": {
      "text/plain": [
       "[64, 61, 68, 68, 71]"
      ]
     },
     "execution_count": 42,
     "metadata": {},
     "output_type": "execute_result"
    }
   ],
   "source": [
    "val=obj.encoder(s='hello')\n",
    "val"
   ]
  },
  {
   "cell_type": "code",
   "execution_count": 43,
   "id": "95e50a1e",
   "metadata": {},
   "outputs": [
    {
     "data": {
      "text/plain": [
       "tensor([[-0.2348, -0.9463, -0.3062,  0.5199,  2.5804, -1.1007,  1.0478,  1.3342],\n",
       "        [-1.1583, -1.4956, -1.5983,  0.4800, -1.6429, -2.1345, -0.4105,  0.4905],\n",
       "        [ 0.4344, -1.9602, -0.1306,  0.1736, -0.2423,  1.2940, -0.2329,  2.1978],\n",
       "        [ 0.4344, -1.9602, -0.1306,  0.1736, -0.2423,  1.2940, -0.2329,  2.1978],\n",
       "        [ 0.0867, -0.1407, -0.6312,  1.3012,  0.8746,  0.7028,  1.8270, -0.8602]],\n",
       "       grad_fn=<EmbeddingBackward0>)"
      ]
     },
     "execution_count": 43,
     "metadata": {},
     "output_type": "execute_result"
    }
   ],
   "source": [
    "embeding(torch.tensor(val))"
   ]
  },
  {
   "cell_type": "code",
   "execution_count": 44,
   "id": "0083c631",
   "metadata": {},
   "outputs": [
    {
     "data": {
      "text/plain": [
       "69"
      ]
     },
     "execution_count": 44,
     "metadata": {},
     "output_type": "execute_result"
    }
   ],
   "source": [
    "int(x[0][0])"
   ]
  },
  {
   "cell_type": "code",
   "execution_count": 46,
   "id": "c5ddb74d",
   "metadata": {},
   "outputs": [
    {
     "ename": "KeyError",
     "evalue": "tensor(69)",
     "output_type": "error",
     "traceback": [
      "\u001b[1;31m---------------------------------------------------------------------------\u001b[0m",
      "\u001b[1;31mKeyError\u001b[0m                                  Traceback (most recent call last)",
      "Cell \u001b[1;32mIn[46], line 1\u001b[0m\n\u001b[1;32m----> 1\u001b[0m \u001b[38;5;28mprint\u001b[39m( obj\u001b[38;5;241m.\u001b[39mdecoder(x[\u001b[38;5;241m0\u001b[39m]))\n",
      "File \u001b[1;32mc:\\Users\\ASUS\\OneDrive\\Desktop\\code\\projects\\Shakespearean_Style_Transfer_Bot\\tokenizer.py:30\u001b[0m, in \u001b[0;36mTokenizer.decoder\u001b[1;34m(self, l)\u001b[0m\n\u001b[0;32m     28\u001b[0m \u001b[38;5;28;01mdef\u001b[39;00m \u001b[38;5;21mdecoder\u001b[39m(\u001b[38;5;28mself\u001b[39m,l:\u001b[38;5;28mint\u001b[39m)\u001b[38;5;241m-\u001b[39m\u001b[38;5;241m>\u001b[39m\u001b[38;5;28mstr\u001b[39m:\n\u001b[0;32m     29\u001b[0m      \u001b[38;5;124m'\u001b[39m\u001b[38;5;124mconverts int to str\u001b[39m\u001b[38;5;124m'\u001b[39m\n\u001b[1;32m---> 30\u001b[0m      \u001b[38;5;28;01mreturn\u001b[39;00m \u001b[38;5;124m'\u001b[39m\u001b[38;5;124m'\u001b[39m\u001b[38;5;241m.\u001b[39mjoin([\u001b[38;5;28mself\u001b[39m\u001b[38;5;241m.\u001b[39mint_to_string[i]\u001b[38;5;241m+\u001b[39m\u001b[38;5;124m\"\u001b[39m\u001b[38;5;124m \u001b[39m\u001b[38;5;124m\"\u001b[39m \u001b[38;5;28;01mfor\u001b[39;00m i \u001b[38;5;129;01min\u001b[39;00m l])\n",
      "\u001b[1;31mKeyError\u001b[0m: tensor(69)"
     ]
    }
   ],
   "source": [
    "print( obj.decoder(x[0]))\n",
    "    "
   ]
  }
 ],
 "metadata": {
  "kernelspec": {
   "display_name": "base",
   "language": "python",
   "name": "python3"
  },
  "language_info": {
   "codemirror_mode": {
    "name": "ipython",
    "version": 3
   },
   "file_extension": ".py",
   "mimetype": "text/x-python",
   "name": "python",
   "nbconvert_exporter": "python",
   "pygments_lexer": "ipython3",
   "version": "3.12.7"
  }
 },
 "nbformat": 4,
 "nbformat_minor": 5
}
