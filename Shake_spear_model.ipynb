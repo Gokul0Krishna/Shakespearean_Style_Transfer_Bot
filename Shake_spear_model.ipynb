{
 "cells": [
  {
   "cell_type": "code",
   "execution_count": null,
   "id": "11b5abd1",
   "metadata": {},
   "outputs": [],
   "source": [
    "from tokenizer import Tokenizer\n",
    "import torch\n",
    "import torch.nn as nn"
   ]
  },
  {
   "cell_type": "code",
   "execution_count": 10,
   "id": "1e4e720a",
   "metadata": {},
   "outputs": [],
   "source": [
    "obj = Tokenizer()\n",
    "obj.character_tokenizer()\n",
    "data=obj.encoder(s=obj.data)"
   ]
  },
  {
   "cell_type": "code",
   "execution_count": 11,
   "id": "f2d3b463",
   "metadata": {},
   "outputs": [],
   "source": [
    "n=int(0.9*len(data))\n",
    "traindata = data[:n]\n",
    "intrimdata = data[n:]"
   ]
  },
  {
   "cell_type": "code",
   "execution_count": null,
   "id": "737ddec8",
   "metadata": {},
   "outputs": [
    {
     "ename": "TypeError",
     "evalue": "expected Tensor as element 0 in argument 0, but got list",
     "output_type": "error",
     "traceback": [
      "\u001b[1;31m---------------------------------------------------------------------------\u001b[0m",
      "\u001b[1;31mTypeError\u001b[0m                                 Traceback (most recent call last)",
      "Cell \u001b[1;32mIn[12], line 6\u001b[0m\n\u001b[0;32m      4\u001b[0m data \u001b[38;5;241m=\u001b[39m traindata \n\u001b[0;32m      5\u001b[0m ix \u001b[38;5;241m=\u001b[39m torch\u001b[38;5;241m.\u001b[39mrandint(\u001b[38;5;28mlen\u001b[39m(data) \u001b[38;5;241m-\u001b[39m block_size, (batch_size,))\n\u001b[1;32m----> 6\u001b[0m x \u001b[38;5;241m=\u001b[39m torch\u001b[38;5;241m.\u001b[39mstack([data[i:i\u001b[38;5;241m+\u001b[39mblock_size] \u001b[38;5;28;01mfor\u001b[39;00m i \u001b[38;5;129;01min\u001b[39;00m ix])\n\u001b[0;32m      7\u001b[0m y \u001b[38;5;241m=\u001b[39m torch\u001b[38;5;241m.\u001b[39mstack([data[i\u001b[38;5;241m+\u001b[39m\u001b[38;5;241m1\u001b[39m:i\u001b[38;5;241m+\u001b[39mblock_size\u001b[38;5;241m+\u001b[39m\u001b[38;5;241m1\u001b[39m] \u001b[38;5;28;01mfor\u001b[39;00m i \u001b[38;5;129;01min\u001b[39;00m ix])\n\u001b[0;32m      8\u001b[0m \u001b[38;5;66;03m# return x.to(device), y.to(device)\u001b[39;00m\n",
      "\u001b[1;31mTypeError\u001b[0m: expected Tensor as element 0 in argument 0, but got list"
     ]
    }
   ],
   "source": [
    "block_size = 128  # context length\n",
    "batch_size = 64   # number of sequences in a batch\n",
    "\n",
    "data = torch.tensor(traindata) \n",
    "ix = torch.randint(len(data) - block_size, (batch_size,))\n",
    "x = torch.stack([data[i:i+block_size] for i in ix])\n",
    "y = torch.stack([data[i+1:i+block_size+1] for i in ix])\n"
   ]
  },
  {
   "cell_type": "code",
   "execution_count": 26,
   "id": "294e39b0",
   "metadata": {},
   "outputs": [
    {
     "name": "stdout",
     "output_type": "stream",
     "text": [
      "torch.Size([2, 5, 128])\n"
     ]
    }
   ],
   "source": [
    "import torch\n",
    "import torch.nn as nn\n",
    "\n",
    "vocab_size = 5000\n",
    "embed_dim = 128\n",
    "max_len = 512   # max sequence length\n",
    "\n",
    "# Token embeddings\n",
    "tok_emb = nn.Embedding(vocab_size, embed_dim)\n",
    "\n",
    "# Positional embeddings\n",
    "pos_emb = nn.Embedding(max_len, embed_dim)\n",
    "\n",
    "# Example input (batch of 2 sentences, each length 5)\n",
    "x = torch.randint(0, vocab_size, (2, 5))\n",
    "\n",
    "# Positions (0..4)\n",
    "positions = torch.arange(0, x.size(1)).unsqueeze(0)\n",
    "\n",
    "# Final embeddings\n",
    "out = tok_emb(x) + pos_emb(positions)\n",
    "print(out.shape)  # (2, 5, 128)\n"
   ]
  }
 ],
 "metadata": {
  "kernelspec": {
   "display_name": "base",
   "language": "python",
   "name": "python3"
  },
  "language_info": {
   "codemirror_mode": {
    "name": "ipython",
    "version": 3
   },
   "file_extension": ".py",
   "mimetype": "text/x-python",
   "name": "python",
   "nbconvert_exporter": "python",
   "pygments_lexer": "ipython3",
   "version": "3.12.7"
  }
 },
 "nbformat": 4,
 "nbformat_minor": 5
}
